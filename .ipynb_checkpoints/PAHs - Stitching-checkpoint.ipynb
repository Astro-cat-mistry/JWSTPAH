{
 "cells": [
  {
   "cell_type": "markdown",
   "id": "8231217c",
   "metadata": {},
   "source": [
    "<div style=\"font-size:40px; color:#0F2080;\">\n",
    "  Importing <span style=\"color:#F5793A;\">libraries</span> and <span style=\"color:#F5793A;\">fits</span>\n",
    "</div>"
   ]
  },
  {
   "cell_type": "code",
   "execution_count": 1,
   "id": "ab04bde2",
   "metadata": {},
   "outputs": [],
   "source": [
    "import jwst\n",
    "import jwst.combine_1d\n",
    "import os\n",
    "import json\n",
    "import numpy as np\n",
    "from astropy.io import fits\n",
    "from astropy.io.misc import yaml\n",
    "from astropy import units as u\n",
    "from astropy.nddata import StdDevUncertainty\n",
    "from astropy.table import Table\n",
    "from astropy.visualization import simple_norm\n",
    "from pathlib import Path\n",
    "import glob\n",
    "import pahfit\n",
    "from numpy.polynomial import Polynomial\n",
    "from pkg_resources import resource_filename\n",
    "from pahfit.errors import PAHFITPackError, PAHFITWarning\n",
    "from warnings import warn\n",
    "from photutils.aperture import CircularAnnulus, aperture_photometry\n",
    "from matplotlib import colormaps, cm\n",
    "import matplotlib.pyplot as plt\n",
    "from matplotlib.patches import Rectangle\n",
    "from specutils import Spectrum1D\n",
    "from specutils.manipulation import extract_region\n",
    "from specutils import SpectralRegion\n",
    "import importlib_resources\n",
    "from pypahdb.decomposer import Decomposer\n",
    "from pypahdb.observation import Observation\n",
    "import scipy\n",
    "import matplotlib\n",
    "import tqdm\n",
    "from jwst.combine_1d import Combine1dStep"
   ]
  },
  {
   "cell_type": "markdown",
   "id": "9d61cb97-74f7-42de-8a9e-c180e86a49ae",
   "metadata": {},
   "source": [
    "<div style=\"font-size:40px; color:#0F2080;\">\n",
    "  Ensuring <span style=\"color:#F5793A;\">JWST</span> works\n",
    "</div>"
   ]
  },
  {
   "cell_type": "code",
   "execution_count": 2,
   "id": "14e511b7-f679-4788-944e-29cf01295d3a",
   "metadata": {},
   "outputs": [
    {
     "name": "stdout",
     "output_type": "stream",
     "text": [
      "1.13.4\n",
      "['__builtins__', '__cached__', '__doc__', '__file__', '__loader__', '__name__', '__package__', '__path__', '__spec__', '__version__', '__version_commit__', '_regex_git_hash', 'assign_wcs', 'associations', 'combine_1d', 'datamodels', 'extract_1d', 'lib', 're', 'residual_fringe', 'stpipe', 'version']\n",
      "Help on package jwst:\n",
      "\n",
      "NAME\n",
      "    jwst\n",
      "\n",
      "PACKAGE CONTENTS\n",
      "    _version\n",
      "    ami (package)\n",
      "    assign_mtwcs (package)\n",
      "    assign_wcs (package)\n",
      "    associations (package)\n",
      "    background (package)\n",
      "    barshadow (package)\n",
      "    charge_migration (package)\n",
      "    combine_1d (package)\n",
      "    conftest\n",
      "    coron (package)\n",
      "    cube_build (package)\n",
      "    cube_skymatch (package)\n",
      "    dark_current (package)\n",
      "    datamodels (package)\n",
      "    dq_init (package)\n",
      "    emicorr (package)\n",
      "    engdblog (package)\n",
      "    exp_to_source (package)\n",
      "    extract_1d (package)\n",
      "    extract_2d (package)\n",
      "    firstframe (package)\n",
      "    fits_generator (package)\n",
      "    flatfield (package)\n",
      "    fringe (package)\n",
      "    gain_scale (package)\n",
      "    group_scale (package)\n",
      "    guider_cds (package)\n",
      "    imprint (package)\n",
      "    ipc (package)\n",
      "    jump (package)\n",
      "    lastframe (package)\n",
      "    lib (package)\n",
      "    linearity (package)\n",
      "    master_background (package)\n",
      "    model_blender (package)\n",
      "    mrs_imatch (package)\n",
      "    msaflagopen (package)\n",
      "    nsclean (package)\n",
      "    outlier_detection (package)\n",
      "    pathloss (package)\n",
      "    persistence (package)\n",
      "    photom (package)\n",
      "    pipeline (package)\n",
      "    pixel_replace (package)\n",
      "    ramp_fitting (package)\n",
      "    refpix (package)\n",
      "    regtest (package)\n",
      "    resample (package)\n",
      "    reset (package)\n",
      "    residual_fringe (package)\n",
      "    rscd (package)\n",
      "    saturation (package)\n",
      "    scripts (package)\n",
      "    skymatch (package)\n",
      "    source_catalog (package)\n",
      "    spectral_leak (package)\n",
      "    srctype (package)\n",
      "    step\n",
      "    stpipe (package)\n",
      "    straylight (package)\n",
      "    superbias (package)\n",
      "    tests (package)\n",
      "    tso_photometry (package)\n",
      "    tweakreg (package)\n",
      "    wavecorr (package)\n",
      "    wfs_combine (package)\n",
      "    wfss_contam (package)\n",
      "    white_light (package)\n",
      "\n",
      "DATA\n",
      "    __version_commit__ = ''\n",
      "\n",
      "VERSION\n",
      "    1.13.4\n",
      "\n",
      "FILE\n",
      "    c:\\users\\juan\\anaconda3\\lib\\site-packages\\jwst\\__init__.py\n",
      "\n",
      "\n"
     ]
    }
   ],
   "source": [
    "print(jwst.__version__)\n",
    "print(dir(jwst))\n",
    "help(jwst)"
   ]
  },
  {
   "cell_type": "code",
   "execution_count": 3,
   "id": "8167695e-0c43-48b4-a7db-c24376bac592",
   "metadata": {},
   "outputs": [
    {
     "data": {
      "text/plain": [
       "['Combine1dStep',\n",
       " '__all__',\n",
       " '__builtins__',\n",
       " '__cached__',\n",
       " '__doc__',\n",
       " '__file__',\n",
       " '__loader__',\n",
       " '__name__',\n",
       " '__package__',\n",
       " '__path__',\n",
       " '__spec__',\n",
       " 'combine1d',\n",
       " 'combine_1d_step']"
      ]
     },
     "execution_count": 3,
     "metadata": {},
     "output_type": "execute_result"
    }
   ],
   "source": [
    "dir(jwst.combine_1d)"
   ]
  },
  {
   "cell_type": "markdown",
   "id": "ceec86cb-6e43-40e3-afef-a7c86beaf71f",
   "metadata": {},
   "source": [
    "<div style=\"font-size:40px; color:#0F2080;\">\n",
    "  Calling the <span style=\"color:#F5793A;\">enviorment</span> and <span style=\"color:#F5793A;\">server</span>\n",
    "</div>"
   ]
  },
  {
   "cell_type": "code",
   "execution_count": 4,
   "id": "9476a19a-0877-45b5-b0c7-76c462e0104e",
   "metadata": {},
   "outputs": [],
   "source": [
    "os.environ['CRDS_PATH'] = os.path.expanduser(\"~/crds_cache\")\n",
    "os.environ['CRDS_SERVER_URL'] = 'https://jwst-crds.stsci.edu'"
   ]
  },
  {
   "cell_type": "markdown",
   "id": "d81a3016-8a2b-41b1-a443-5d8a5855912f",
   "metadata": {},
   "source": [
    "<div style=\"font-size:40px; color:#0F2080;\">\n",
    "  Creating the <span style=\"color:#F5793A;\">JSON</span>  <span style=\"color:#F5793A;\">file</span>\n",
    "</div>"
   ]
  },
  {
   "cell_type": "code",
   "execution_count": 5,
   "id": "ef494625-571d-404f-a0e3-a9f47819a13c",
   "metadata": {},
   "outputs": [
    {
     "name": "stdout",
     "output_type": "stream",
     "text": [
      "Association file saved as 'NGC7469.json'\n"
     ]
    }
   ],
   "source": [
    "def create_association_file(output_name, input_files, filename=\"combine_input.json\"):\n",
    "    \"\"\"\n",
    "    Create a JSON association file for JWST's combine_1d step, \n",
    "    and add the missing fields: \"exptype\" and \"asn_pool\".\n",
    "    \n",
    "    Parameters:\n",
    "    - output_name (str): The base name for the output file.\n",
    "    - input_files (list): List of input FITS files to combine.\n",
    "    - filename (str): Name of the JSON file to save (default: \"combine_input.json\").\n",
    "    \"\"\"\n",
    "\n",
    "    association = {\n",
    "        \"products\": [\n",
    "            {\n",
    "                \"name\": output_name,\n",
    "                \"members\": [{\"expname\": file, \"exptype\": \"science\"} for file in input_files]\n",
    "            }\n",
    "        ],\n",
    "        \"asn_pool\": \"placeholder_pool\"\n",
    "    }\n",
    "\n",
    "    with open(filename, \"w\") as json_file:\n",
    "        json.dump(association, json_file, indent=4)\n",
    "    print(f\"Association file saved as '{filename}'\")\n",
    "\n",
    "# Set the output name and input files\n",
    "output_name = \"NGC7469\"\n",
    "input_files = [\n",
    "    \"jw01328-c1006_t014_miri_ch1-shortmediumlong_x1d.fits\",\n",
    "    \"jw01328-c1006_t014_miri_ch2-shortmediumlong_x1d.fits\",\n",
    "    \"jw01328-c1006_t014_miri_ch3-shortmediumlong_x1d.fits\"\n",
    "]\n",
    "\n",
    "create_association_file(output_name, input_files, filename=\"First_ring.json\")"
   ]
  },
  {
   "cell_type": "markdown",
   "id": "f1568f08-f093-430b-9706-f5814e95ea24",
   "metadata": {},
   "source": [
    "<div style=\"font-size:40px; color:#0F2080;\">\n",
    "  Stitching the <span style=\"color:#F5793A;\">files</span>  <span style=\"color:#F5793A;\"> </span>\n",
    "</div>"
   ]
  },
  {
   "cell_type": "code",
   "execution_count": 6,
   "id": "28fafe7b-1d4b-4306-9392-e9aa4e99b215",
   "metadata": {
    "scrolled": false
   },
   "outputs": [
    {
     "name": "stderr",
     "output_type": "stream",
     "text": [
      "2024-12-03 09:49:07,621 - CRDS - INFO -  Calibration SW Found: jwst 1.13.4 (C:\\Users\\Juan\\anaconda3\\lib\\site-packages\\jwst-1.13.4.dist-info)\n",
      "2024-12-03 09:49:08,619 - CRDS - INFO -  Fetching  C:\\Users\\Juan/crds_cache\\mappings\\jwst\\jwst_system_datalvl_0002.rmap      694 bytes  (1 / 187 files) (0 / 700.4 K bytes)\n",
      "Traceback (most recent call last):\n",
      "  File \"C:\\Users\\Juan\\anaconda3\\lib\\site-packages\\crds\\core\\heavy_client.py\", line 353, in local_bestrefs\n",
      "    return hv_best_references(context, parameters, reftypes)\n",
      "  File \"C:\\Users\\Juan\\anaconda3\\lib\\site-packages\\crds\\core\\heavy_client.py\", line 373, in hv_best_references\n",
      "    ctx = get_symbolic_mapping(context_file, cached=True)\n",
      "  File \"C:\\Users\\Juan\\anaconda3\\lib\\site-packages\\crds\\core\\heavy_client.py\", line 697, in get_symbolic_mapping\n",
      "    return get_pickled_mapping(   # reviewed\n",
      "  File \"C:\\Users\\Juan\\anaconda3\\lib\\site-packages\\crds\\core\\utils.py\", line 306, in __call__\n",
      "    key, result = self._readonly(*args, **keys)\n",
      "  File \"C:\\Users\\Juan\\anaconda3\\lib\\site-packages\\crds\\core\\utils.py\", line 293, in _readonly\n",
      "    return key, self.uncached(*args, **keys)\n",
      "  File \"C:\\Users\\Juan\\anaconda3\\lib\\site-packages\\crds\\core\\heavy_client.py\", line 722, in get_pickled_mapping\n",
      "    loaded = rmap.asmapping(mapping, cached=cached, **keys)\n",
      "  File \"C:\\Users\\Juan\\anaconda3\\lib\\site-packages\\crds\\core\\rmap.py\", line 1684, in asmapping\n",
      "    return get_cached_mapping(filename_or_mapping, **keys)\n",
      "  File \"C:\\Users\\Juan\\anaconda3\\lib\\site-packages\\crds\\core\\rmap.py\", line 1611, in get_cached_mapping\n",
      "    return _load_mapping(mapping, **keys)\n",
      "  File \"C:\\Users\\Juan\\anaconda3\\lib\\site-packages\\crds\\core\\utils.py\", line 306, in __call__\n",
      "    key, result = self._readonly(*args, **keys)\n",
      "  File \"C:\\Users\\Juan\\anaconda3\\lib\\site-packages\\crds\\core\\utils.py\", line 293, in _readonly\n",
      "    return key, self.uncached(*args, **keys)\n",
      "  File \"C:\\Users\\Juan\\anaconda3\\lib\\site-packages\\crds\\core\\rmap.py\", line 1662, in _load_mapping\n",
      "    return cls.from_file(mapping, **keys)\n",
      "  File \"C:\\Users\\Juan\\anaconda3\\lib\\site-packages\\crds\\core\\rmap.py\", line 266, in from_file\n",
      "    text = utils.get_uri_content(filename)\n",
      "  File \"C:\\Users\\Juan\\anaconda3\\lib\\site-packages\\crds\\core\\utils.py\", line 737, in get_uri_content\n",
      "    with open(uri, mode) as file:\n",
      "FileNotFoundError: [Errno 2] No such file or directory: 'C:\\\\Users\\\\Juan/crds_cache\\\\mappings\\\\jwst\\\\jwst_1210.pmap'\n",
      "\n",
      "During handling of the above exception, another exception occurred:\n",
      "\n",
      "Traceback (most recent call last):\n",
      "  File \"C:\\Users\\Juan\\anaconda3\\lib\\site-packages\\crds\\client\\api.py\", line 791, in download\n",
      "    utils.ensure_dir_exists(localpath)\n",
      "  File \"C:\\Users\\Juan\\anaconda3\\lib\\site-packages\\crds\\core\\utils.py\", line 609, in ensure_dir_exists\n",
      "    create_path(os.path.dirname(fullpath), mode)\n",
      "  File \"C:\\Users\\Juan\\anaconda3\\lib\\site-packages\\crds\\core\\utils.py\", line 600, in create_path\n",
      "    os.mkdir(subdir, mode)\n",
      "FileNotFoundError: [WinError 3] The system cannot find the path specified: 'C:\\\\Users\\\\Juan\\\\crds_cache\\\\mappings\\\\jwst'\n",
      "\n",
      "The above exception was the direct cause of the following exception:\n",
      "\n",
      "Traceback (most recent call last):\n",
      "  File \"C:\\Users\\Juan\\anaconda3\\lib\\site-packages\\crds\\core\\heavy_client.py\", line 357, in local_bestrefs\n",
      "    api.dump_mappings(context, ignore_cache=ignore_cache)\n",
      "  File \"C:\\Users\\Juan\\anaconda3\\lib\\site-packages\\crds\\client\\api.py\", line 921, in dump_mappings\n",
      "    return dump_mappings3(*args, **keys)[0]\n",
      "  File \"C:\\Users\\Juan\\anaconda3\\lib\\site-packages\\crds\\client\\api.py\", line 913, in dump_mappings3\n",
      "    return FileCacher(pipeline_context, ignore_cache, raise_exceptions).get_local_files(mappings)\n",
      "  File \"C:\\Users\\Juan\\anaconda3\\lib\\site-packages\\crds\\client\\api.py\", line 731, in get_local_files\n",
      "    n_bytes = self.download_files(downloads, localpaths)\n",
      "  File \"C:\\Users\\Juan\\anaconda3\\lib\\site-packages\\crds\\client\\api.py\", line 773, in download_files\n",
      "    self.download(name, path)\n",
      "  File \"C:\\Users\\Juan\\anaconda3\\lib\\site-packages\\crds\\client\\api.py\", line 795, in download\n",
      "    raise CrdsDownloadError(\n",
      "crds.core.exceptions.CrdsDownloadError: Error fetching data for 'jwst_system_datalvl_0002.rmap' at CRDS server 'https://jwst-crds.stsci.edu' with mode 'http' : [WinError 3] The system cannot find the path specified: 'C:\\\\Users\\\\Juan\\\\crds_cache\\\\mappings\\\\jwst'\n",
      "2024-12-03 09:49:08,630 - stpipe.Combine1dStep - INFO - Combine1dStep instance created.\n",
      "2024-12-03 09:49:08,732 - stpipe.Combine1dStep - INFO - Step Combine1dStep running with args ('NGC7469.json',).\n",
      "2024-12-03 09:49:08,734 - stpipe.Combine1dStep - INFO - Step Combine1dStep parameters are: {'pre_hooks': [], 'post_hooks': [], 'output_file': 'C:\\\\Users\\\\Juan\\\\Downloads\\\\Research\\\\JWSTPAH\\\\NGC7469.fits', 'output_dir': '/Users/Juan/Downloads/Research/JWSTPAH', 'output_ext': '.fits', 'output_use_model': False, 'output_use_index': True, 'save_results': False, 'skip': False, 'suffix': '_stitched', 'search_output_file': True, 'input_dir': '', 'exptime_key': 'exposure_time'}\n",
      "2024-12-03 09:49:10,519 - stpipe.Combine1dStep - INFO - Using exposure time as the weight.\n",
      "2024-12-03 09:49:10,623 - stpipe.Combine1dStep - INFO - Accumulating data from input spectrum 1\n",
      "2024-12-03 09:49:10,651 - stpipe.Combine1dStep - INFO - Accumulating data from input spectrum 2\n",
      "2024-12-03 09:49:10,677 - stpipe.Combine1dStep - INFO - Accumulating data from input spectrum 3\n",
      "2024-12-03 09:49:11,038 - stpipe.Combine1dStep - INFO - Saved model in /Users/Juan/Downloads/Research/JWSTPAH\\NGC7469__stitched.fits\n",
      "2024-12-03 09:49:11,039 - stpipe.Combine1dStep - INFO - Step Combine1dStep done\n"
     ]
    },
    {
     "data": {
      "text/plain": [
       "<MultiCombinedSpecModel from NGC7469__stitched.fits>"
      ]
     },
     "execution_count": 6,
     "metadata": {},
     "output_type": "execute_result"
    }
   ],
   "source": [
    "output_dir = '/Users/Juan/Downloads/Research/JWSTPAH'\n",
    "output_file = 'NGC7469.fits'\n",
    "\n",
    "# Run the step with the output file and directory specified\n",
    "Combine1dStep.call('NGC7469.json', output_dir=output_dir, suffix='_stitched', output_file=output_file)"
   ]
  },
  {
   "cell_type": "code",
   "execution_count": null,
   "id": "16b8faf4",
   "metadata": {},
   "outputs": [],
   "source": []
  }
 ],
 "metadata": {
  "kernelspec": {
   "display_name": "Python 3 (ipykernel)",
   "language": "python",
   "name": "python3"
  },
  "language_info": {
   "codemirror_mode": {
    "name": "ipython",
    "version": 3
   },
   "file_extension": ".py",
   "mimetype": "text/x-python",
   "name": "python",
   "nbconvert_exporter": "python",
   "pygments_lexer": "ipython3",
   "version": "3.9.7"
  }
 },
 "nbformat": 4,
 "nbformat_minor": 5
}
