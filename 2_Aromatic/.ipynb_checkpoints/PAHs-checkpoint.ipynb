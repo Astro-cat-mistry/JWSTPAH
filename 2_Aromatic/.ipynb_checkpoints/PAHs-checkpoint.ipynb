{
 "cells": [
  {
   "cell_type": "markdown",
   "id": "d8b369cc",
   "metadata": {},
   "source": [
    "<div style=\"font-size:40px; color:#0F2080;\">\n",
    "  Importing <span style=\"color:#F5793A;\">libraries</span> and <span style=\"color:#F5793A;\">fits</span>\n",
    "</div>"
   ]
  },
  {
   "cell_type": "code",
   "execution_count": 1,
   "id": "9d00bf3f",
   "metadata": {},
   "outputs": [
    {
     "name": "stdout",
     "output_type": "stream",
     "text": [
      "Found 35 FITS files in C:\\Users\\Juan\\Downloads\\Research\\JWSTPAH\\3_Hydrocarbons:\n",
      "CH1_ring1.fits\n",
      "CH1_ring2.fits\n",
      "CH1_ring3.fits\n",
      "CH1_ring4.fits\n",
      "CH1_ring5.fits\n",
      "CH1_ring6.fits\n",
      "CH1_ring7.fits\n",
      "CH2_ring1.fits\n",
      "CH2_ring2.fits\n",
      "CH2_ring3.fits\n",
      "CH2_ring4.fits\n",
      "CH2_ring5.fits\n",
      "CH2_ring6.fits\n",
      "CH2_ring7.fits\n",
      "CH3_ring1.fits\n",
      "CH3_ring2.fits\n",
      "CH3_ring3.fits\n",
      "CH3_ring4.fits\n",
      "CH3_ring5.fits\n",
      "CH3_ring6.fits\n",
      "CH3_ring7.fits\n",
      "jw01328-c1006_t014_miri_ch1-shortmediumlong_s3d.fits\n",
      "jw01328-c1006_t014_miri_ch1-shortmediumlong_x1d.fits\n",
      "jw01328-c1006_t014_miri_ch2-shortmediumlong_s3d.fits\n",
      "jw01328-c1006_t014_miri_ch2-shortmediumlong_x1d.fits\n",
      "jw01328-c1006_t014_miri_ch3-shortmediumlong_s3d.fits\n",
      "jw01328-c1006_t014_miri_ch3-shortmediumlong_x1d.fits\n",
      "NGC7469__stitched.fits\n",
      "Ring1_combined__stitched.fits\n",
      "Ring2_combined__stitched.fits\n",
      "Ring3_combined__stitched.fits\n",
      "Ring4_combined__stitched.fits\n",
      "Ring5_combined__stitched.fits\n",
      "Ring6_combined__stitched.fits\n",
      "Ring7_combined__stitched.fits\n"
     ]
    }
   ],
   "source": [
    "# Core libraries\n",
    "import os\n",
    "import glob\n",
    "import numpy as np\n",
    "import scipy\n",
    "import warnings\n",
    "from pathlib import Path\n",
    "\n",
    "# Astropy\n",
    "from astropy.io import fits\n",
    "from astropy.io.misc import yaml\n",
    "from astropy import units as u\n",
    "from astropy.nddata import StdDevUncertainty\n",
    "from astropy.table import Table\n",
    "from astropy.visualization import simple_norm\n",
    "\n",
    "# specutils\n",
    "from specutils import Spectrum1D, SpectralRegion\n",
    "from specutils.manipulation import extract_region\n",
    "\n",
    "# pahfit\n",
    "import pahfit\n",
    "from pahfit.errors import PAHFITPackError, PAHFITWarning\n",
    "from pahfit.modelj import Model\n",
    "from pkg_resources import resource_filename\n",
    "\n",
    "# pyPAHdb\n",
    "import pypahdb\n",
    "from pypahdb.decomposer import Decomposer\n",
    "from pypahdb.observation import Observation\n",
    "\n",
    "# matplotlib\n",
    "import matplotlib.pyplot as plt\n",
    "from matplotlib import colormaps, cm\n",
    "from matplotlib.patches import Rectangle\n",
    "\n",
    "# tqdm for progress bars\n",
    "import tqdm\n",
    "\n",
    "repo_dir = Path().resolve().parent  # from JWSTPAH/2_Aromatic → JWSTPAH/\n",
    "fits_dir = repo_dir / \"3_Hydrocarbons\"\n",
    "\n",
    "fits_files = sorted(fits_dir.glob(\"*.fits\"))\n",
    "\n",
    "print(f\"Found {len(fits_files)} FITS files in {fits_dir}:\")\n",
    "for file in fits_files:\n",
    "    print(file.name)"
   ]
  },
  {
   "cell_type": "markdown",
   "id": "2a3a8bad",
   "metadata": {},
   "source": [
    "<div style=\"font-size:40px; color:#0F2080;\">\n",
    "  Running <span style=\"color:#F5793A;\">PAHfit</span> \n",
    "</div>"
   ]
  },
  {
   "cell_type": "code",
   "execution_count": 4,
   "id": "93dada70",
   "metadata": {
    "scrolled": false
   },
   "outputs": [
    {
     "ename": "OSError",
     "evalue": "Could not identify column containing the flux",
     "output_type": "error",
     "traceback": [
      "\u001b[1;31m---------------------------------------------------------------------------\u001b[0m",
      "\u001b[1;31mOSError\u001b[0m                                   Traceback (most recent call last)",
      "\u001b[1;32m~\\AppData\\Local\\Temp/ipykernel_14468/1348609542.py\u001b[0m in \u001b[0;36m<module>\u001b[1;34m\u001b[0m\n\u001b[1;32m----> 1\u001b[1;33m \u001b[0mspec\u001b[0m \u001b[1;33m=\u001b[0m \u001b[0mSpectrum1D\u001b[0m\u001b[1;33m.\u001b[0m\u001b[0mread\u001b[0m\u001b[1;33m(\u001b[0m\u001b[1;34m'Ring5_combined__stitched.fits'\u001b[0m\u001b[1;33m)\u001b[0m\u001b[1;33m\u001b[0m\u001b[1;33m\u001b[0m\u001b[0m\n\u001b[0m\u001b[0;32m      2\u001b[0m \u001b[0mspec\u001b[0m\u001b[1;33m.\u001b[0m\u001b[0mmeta\u001b[0m\u001b[1;33m[\u001b[0m\u001b[1;34m'instrument'\u001b[0m\u001b[1;33m]\u001b[0m \u001b[1;33m=\u001b[0m \u001b[1;34m'jwst.miri.*.*'\u001b[0m\u001b[1;33m\u001b[0m\u001b[1;33m\u001b[0m\u001b[0m\n\u001b[0;32m      3\u001b[0m \u001b[0mspec\u001b[0m\u001b[1;33m.\u001b[0m\u001b[0mset_redshift_to\u001b[0m\u001b[1;33m(\u001b[0m\u001b[1;36m0.016268\u001b[0m\u001b[1;33m)\u001b[0m\u001b[1;33m\u001b[0m\u001b[1;33m\u001b[0m\u001b[0m\n\u001b[0;32m      4\u001b[0m \u001b[1;33m\u001b[0m\u001b[0m\n\u001b[0;32m      5\u001b[0m \u001b[0mmodel\u001b[0m \u001b[1;33m=\u001b[0m \u001b[0mModel\u001b[0m\u001b[1;33m.\u001b[0m\u001b[0mfrom_yaml\u001b[0m\u001b[1;33m(\u001b[0m\u001b[1;34m'classic.yaml'\u001b[0m\u001b[1;33m)\u001b[0m\u001b[1;33m\u001b[0m\u001b[1;33m\u001b[0m\u001b[0m\n",
      "\u001b[1;32m~\\anaconda3\\lib\\site-packages\\astropy\\nddata\\mixins\\ndio.py\u001b[0m in \u001b[0;36m__call__\u001b[1;34m(self, *args, **kwargs)\u001b[0m\n\u001b[0;32m     57\u001b[0m \u001b[1;33m\u001b[0m\u001b[0m\n\u001b[0;32m     58\u001b[0m     \u001b[1;32mdef\u001b[0m \u001b[0m__call__\u001b[0m\u001b[1;33m(\u001b[0m\u001b[0mself\u001b[0m\u001b[1;33m,\u001b[0m \u001b[1;33m*\u001b[0m\u001b[0margs\u001b[0m\u001b[1;33m,\u001b[0m \u001b[1;33m**\u001b[0m\u001b[0mkwargs\u001b[0m\u001b[1;33m)\u001b[0m\u001b[1;33m:\u001b[0m\u001b[1;33m\u001b[0m\u001b[1;33m\u001b[0m\u001b[0m\n\u001b[1;32m---> 59\u001b[1;33m         \u001b[1;32mreturn\u001b[0m \u001b[0mself\u001b[0m\u001b[1;33m.\u001b[0m\u001b[0mregistry\u001b[0m\u001b[1;33m.\u001b[0m\u001b[0mread\u001b[0m\u001b[1;33m(\u001b[0m\u001b[0mself\u001b[0m\u001b[1;33m.\u001b[0m\u001b[0m_cls\u001b[0m\u001b[1;33m,\u001b[0m \u001b[1;33m*\u001b[0m\u001b[0margs\u001b[0m\u001b[1;33m,\u001b[0m \u001b[1;33m**\u001b[0m\u001b[0mkwargs\u001b[0m\u001b[1;33m)\u001b[0m\u001b[1;33m\u001b[0m\u001b[1;33m\u001b[0m\u001b[0m\n\u001b[0m\u001b[0;32m     60\u001b[0m \u001b[1;33m\u001b[0m\u001b[0m\n\u001b[0;32m     61\u001b[0m \u001b[1;33m\u001b[0m\u001b[0m\n",
      "\u001b[1;32m~\\anaconda3\\lib\\site-packages\\astropy\\io\\registry\\core.py\u001b[0m in \u001b[0;36mread\u001b[1;34m(self, cls, format, cache, *args, **kwargs)\u001b[0m\n\u001b[0;32m    219\u001b[0m \u001b[1;33m\u001b[0m\u001b[0m\n\u001b[0;32m    220\u001b[0m             \u001b[0mreader\u001b[0m \u001b[1;33m=\u001b[0m \u001b[0mself\u001b[0m\u001b[1;33m.\u001b[0m\u001b[0mget_reader\u001b[0m\u001b[1;33m(\u001b[0m\u001b[0mformat\u001b[0m\u001b[1;33m,\u001b[0m \u001b[0mcls\u001b[0m\u001b[1;33m)\u001b[0m\u001b[1;33m\u001b[0m\u001b[1;33m\u001b[0m\u001b[0m\n\u001b[1;32m--> 221\u001b[1;33m             \u001b[0mdata\u001b[0m \u001b[1;33m=\u001b[0m \u001b[0mreader\u001b[0m\u001b[1;33m(\u001b[0m\u001b[1;33m*\u001b[0m\u001b[0margs\u001b[0m\u001b[1;33m,\u001b[0m \u001b[1;33m**\u001b[0m\u001b[0mkwargs\u001b[0m\u001b[1;33m)\u001b[0m\u001b[1;33m\u001b[0m\u001b[1;33m\u001b[0m\u001b[0m\n\u001b[0m\u001b[0;32m    222\u001b[0m \u001b[1;33m\u001b[0m\u001b[0m\n\u001b[0;32m    223\u001b[0m             \u001b[1;32mif\u001b[0m \u001b[1;32mnot\u001b[0m \u001b[0misinstance\u001b[0m\u001b[1;33m(\u001b[0m\u001b[0mdata\u001b[0m\u001b[1;33m,\u001b[0m \u001b[0mcls\u001b[0m\u001b[1;33m)\u001b[0m\u001b[1;33m:\u001b[0m\u001b[1;33m\u001b[0m\u001b[1;33m\u001b[0m\u001b[0m\n",
      "\u001b[1;32m~\\anaconda3\\lib\\site-packages\\specutils\\io\\default_loaders\\tabular_fits.py\u001b[0m in \u001b[0;36mtabular_fits_loader\u001b[1;34m(file_obj, column_mapping, hdu, store_data_header, **kwargs)\u001b[0m\n\u001b[0;32m     97\u001b[0m     \u001b[1;31m# unit information\u001b[0m\u001b[1;33m\u001b[0m\u001b[1;33m\u001b[0m\u001b[0m\n\u001b[0;32m     98\u001b[0m     \u001b[1;32mif\u001b[0m \u001b[0mcolumn_mapping\u001b[0m \u001b[1;32mis\u001b[0m \u001b[1;32mNone\u001b[0m\u001b[1;33m:\u001b[0m\u001b[1;33m\u001b[0m\u001b[1;33m\u001b[0m\u001b[0m\n\u001b[1;32m---> 99\u001b[1;33m         \u001b[1;32mreturn\u001b[0m \u001b[0mgeneric_spectrum_from_table\u001b[0m\u001b[1;33m(\u001b[0m\u001b[0mtab\u001b[0m\u001b[1;33m,\u001b[0m \u001b[0mwcs\u001b[0m\u001b[1;33m=\u001b[0m\u001b[0mwcs\u001b[0m\u001b[1;33m)\u001b[0m\u001b[1;33m\u001b[0m\u001b[1;33m\u001b[0m\u001b[0m\n\u001b[0m\u001b[0;32m    100\u001b[0m \u001b[1;33m\u001b[0m\u001b[0m\n\u001b[0;32m    101\u001b[0m     \u001b[1;32mreturn\u001b[0m \u001b[0mspectrum_from_column_mapping\u001b[0m\u001b[1;33m(\u001b[0m\u001b[0mtab\u001b[0m\u001b[1;33m,\u001b[0m \u001b[0mcolumn_mapping\u001b[0m\u001b[1;33m,\u001b[0m \u001b[0mwcs\u001b[0m\u001b[1;33m=\u001b[0m\u001b[0mwcs\u001b[0m\u001b[1;33m)\u001b[0m\u001b[1;33m\u001b[0m\u001b[1;33m\u001b[0m\u001b[0m\n",
      "\u001b[1;32m~\\anaconda3\\lib\\site-packages\\specutils\\io\\parsing_utils.py\u001b[0m in \u001b[0;36mgeneric_spectrum_from_table\u001b[1;34m(table, wcs)\u001b[0m\n\u001b[0;32m    258\u001b[0m     \u001b[0mflux_column\u001b[0m \u001b[1;33m=\u001b[0m \u001b[0m_find_spectral_column\u001b[0m\u001b[1;33m(\u001b[0m\u001b[0mtable\u001b[0m\u001b[1;33m,\u001b[0m \u001b[0mcolnames\u001b[0m\u001b[1;33m,\u001b[0m \u001b[0mspectral_axis\u001b[0m\u001b[1;33m)\u001b[0m\u001b[1;33m\u001b[0m\u001b[1;33m\u001b[0m\u001b[0m\n\u001b[0;32m    259\u001b[0m     \u001b[1;32mif\u001b[0m \u001b[0mflux_column\u001b[0m \u001b[1;32mis\u001b[0m \u001b[1;32mNone\u001b[0m\u001b[1;33m:\u001b[0m\u001b[1;33m\u001b[0m\u001b[1;33m\u001b[0m\u001b[0m\n\u001b[1;32m--> 260\u001b[1;33m         \u001b[1;32mraise\u001b[0m \u001b[0mIOError\u001b[0m\u001b[1;33m(\u001b[0m\u001b[1;34m\"Could not identify column containing the flux\"\u001b[0m\u001b[1;33m)\u001b[0m\u001b[1;33m\u001b[0m\u001b[1;33m\u001b[0m\u001b[0m\n\u001b[0m\u001b[0;32m    261\u001b[0m     \u001b[0mflux\u001b[0m \u001b[1;33m=\u001b[0m \u001b[0mtable\u001b[0m\u001b[1;33m[\u001b[0m\u001b[0mflux_column\u001b[0m\u001b[1;33m]\u001b[0m\u001b[1;33m.\u001b[0m\u001b[0mto\u001b[0m\u001b[1;33m(\u001b[0m\u001b[0mtable\u001b[0m\u001b[1;33m[\u001b[0m\u001b[0mflux_column\u001b[0m\u001b[1;33m]\u001b[0m\u001b[1;33m.\u001b[0m\u001b[0munit\u001b[0m\u001b[1;33m)\u001b[0m\u001b[1;33m\u001b[0m\u001b[1;33m\u001b[0m\u001b[0m\n\u001b[0;32m    262\u001b[0m     \u001b[0mcolnames\u001b[0m\u001b[1;33m.\u001b[0m\u001b[0mremove\u001b[0m\u001b[1;33m(\u001b[0m\u001b[0mflux_column\u001b[0m\u001b[1;33m)\u001b[0m\u001b[1;33m\u001b[0m\u001b[1;33m\u001b[0m\u001b[0m\n",
      "\u001b[1;31mOSError\u001b[0m: Could not identify column containing the flux"
     ]
    }
   ],
   "source": [
    "spec = Spectrum1D.read('Ring5_combined__stitched.fits')\n",
    "spec.meta['instrument'] = 'jwst.miri.*.*'\n",
    "spec.set_redshift_to(0.016268)\n",
    "\n",
    "model = Model.from_yaml('classic.yaml')\n",
    "model.guess(spec)\n",
    "model.fit(spec)\n",
    "model.plot(spec)\n",
    "\n",
    "output_file = 'Ring_test.ecsv'\n",
    "model.save(output_file, overwrite=True)\n",
    "print(\"Fitting completed and results saved to:\", output_file)"
   ]
  },
  {
   "cell_type": "code",
   "execution_count": null,
   "id": "24da12bd",
   "metadata": {},
   "outputs": [],
   "source": [
    "from specutils import Spectrum1D\n",
    "from specutils.io.registers import custom_loader\n",
    "from astropy.io import fits\n",
    "from astropy.table import Table\n",
    "\n",
    "# Load the data manually\n",
    "with fits.open(\"Ring5_combined__stitched.fits\") as hdul:\n",
    "    tab = Table(hdul[1].data)\n",
    "\n",
    "# Map known columns\n",
    "wavelength = tab[\"WAVELENGTH\"]\n",
    "flux = tab[\"FLUX\"]\n",
    "\n",
    "# Create the spectrum manually\n",
    "spec = Spectrum1D(spectral_axis=wavelength, flux=flux)\n",
    "\n",
    "# Now you can continue using `spec` for PAHFIT\n"
   ]
  },
  {
   "cell_type": "markdown",
   "id": "f6dbc082",
   "metadata": {},
   "source": [
    "<div style=\"font-size:40px; color:#0F2080;\">\n",
    "  PAH<span style=\"color:#F5793A;\">db\n",
    "</div>"
   ]
  },
  {
   "cell_type": "code",
   "execution_count": null,
   "id": "1da6fdc4-b633-46a1-aed6-816f01d71fbb",
   "metadata": {
    "scrolled": true
   },
   "outputs": [],
   "source": [
    "obsjwst = Observation(\"/Users/Juan/Downloads/Research/JWSTPAH/NGC7469_whole__stitched.fits\")\n",
    "obsjwst.spectrum.meta[\"colnames\"] = [\"Wavelength\", \"Flux\"]\n",
    "s = obsjwst.spectrum\n",
    "\n",
    "plt.plot(s.spectral_axis, s.flux[0, 0, :])\n",
    "plt.xlabel(r'$\\lambda$ (μm)', fontsize=14)\n",
    "plt.ylabel(\"Flux\")\n",
    "plt.title(\"Loaded JWST Spectrum\")\n",
    "plt.show()"
   ]
  },
  {
   "cell_type": "code",
   "execution_count": null,
   "id": "3cff1f2d",
   "metadata": {},
   "outputs": [],
   "source": [
    "resultjwst = Decomposer(obsjwst.spectrum)\n",
    "\n",
    "# Extract the fitted spectrum and plot\n",
    "fitted_spectrum = resultjwst.fit\n",
    "plt.plot(s.spectral_axis, s.flux[0, 0, :], label=\"Original Spectrum\")\n",
    "plt.plot(s.spectral_axis, fitted_spectrum[:, 0, 0], label=\"Fitted Spectrum\")\n",
    "plt.xlabel(\"Wavelength (or Wavenumber)\")\n",
    "plt.ylabel(\"Flux\")\n",
    "plt.title(\"Original vs Fitted Spectrum\")\n",
    "plt.legend()\n",
    "plt.show()"
   ]
  },
  {
   "cell_type": "markdown",
   "id": "98189f08",
   "metadata": {},
   "source": [
    "<div style=\"font-size:40px; color:#0F2080;\">\n",
    "  Getting the <span style=\"color:#F5793A;\">residual\n",
    "</div>"
   ]
  },
  {
   "cell_type": "code",
   "execution_count": null,
   "id": "af91ecae",
   "metadata": {},
   "outputs": [],
   "source": [
    "residual = s.flux[0, 0, :] - fitted_spectrum[:, 0, 0]\n",
    "plt.plot(s.spectral_axis, residual, label=\"Residual\")\n",
    "plt.xlabel(\"Wavelength (or Wavenumber)\")\n",
    "plt.ylabel(\"Residual Flux\")\n",
    "plt.title(\"Fit Residual\")\n",
    "plt.axhline(0, color=\"black\", linestyle=\"--\")\n",
    "plt.legend()\n",
    "plt.show()"
   ]
  },
  {
   "cell_type": "markdown",
   "id": "a42adf88",
   "metadata": {},
   "source": [
    "<div style=\"font-size:40px; color:#0F2080;\">\n",
    "  Saving the  <span style=\"color:#F5793A;\">results</span>\n",
    "</div>"
   ]
  },
  {
   "cell_type": "code",
   "execution_count": null,
   "id": "51f000fb",
   "metadata": {},
   "outputs": [],
   "source": [
    "resultjwst.save_pdf(\"NGC7469.pdf\")\n",
    "#resultjwst.save_fits(\"JWST_PAH_Fit.fits\", header=obs.header)"
   ]
  }
 ],
 "metadata": {
  "kernelspec": {
   "display_name": "Python 3 (ipykernel)",
   "language": "python",
   "name": "python3"
  },
  "language_info": {
   "codemirror_mode": {
    "name": "ipython",
    "version": 3
   },
   "file_extension": ".py",
   "mimetype": "text/x-python",
   "name": "python",
   "nbconvert_exporter": "python",
   "pygments_lexer": "ipython3",
   "version": "3.9.7"
  }
 },
 "nbformat": 4,
 "nbformat_minor": 5
}
