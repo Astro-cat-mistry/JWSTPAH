{
 "cells": [
  {
   "cell_type": "markdown",
   "id": "8231217c",
   "metadata": {},
   "source": [
    "<div style=\"font-size:40px; color:#0F2080;\">\n",
    "  Importing <span style=\"color:#F5793A;\">libraries</span> and <span style=\"color:#F5793A;\">fits</span>\n",
    "</div>"
   ]
  },
  {
   "cell_type": "code",
   "execution_count": 1,
   "id": "ab04bde2",
   "metadata": {},
   "outputs": [],
   "source": [
    "import jwst\n",
    "import jwst.combine_1d\n",
    "import os\n",
    "import json\n",
    "import numpy as np\n",
    "from astropy.io import fits\n",
    "from astropy.io.misc import yaml\n",
    "from astropy import units as u\n",
    "from astropy.nddata import StdDevUncertainty\n",
    "from astropy.table import Table\n",
    "from astropy.visualization import simple_norm\n",
    "from pathlib import Path\n",
    "import glob\n",
    "from numpy.polynomial import Polynomial\n",
    "from pkg_resources import resource_filename\n",
    "from warnings import warn\n",
    "from photutils.aperture import CircularAnnulus, aperture_photometry\n",
    "from matplotlib import colormaps, cm\n",
    "import matplotlib.pyplot as plt\n",
    "from matplotlib.patches import Rectangle\n",
    "from specutils import Spectrum1D\n",
    "from specutils.manipulation import extract_region\n",
    "from specutils import SpectralRegion\n",
    "import importlib_resources\n",
    "import scipy\n",
    "import matplotlib\n",
    "import tqdm\n",
    "from jwst.combine_1d import Combine1dStep"
   ]
  },
  {
   "cell_type": "markdown",
   "id": "9d61cb97-74f7-42de-8a9e-c180e86a49ae",
   "metadata": {},
   "source": [
    "<div style=\"font-size:40px; color:#0F2080;\">\n",
    "  Ensuring <span style=\"color:#F5793A;\">JWST</span> works\n",
    "</div>"
   ]
  },
  {
   "cell_type": "code",
   "execution_count": 2,
   "id": "14e511b7-f679-4788-944e-29cf01295d3a",
   "metadata": {},
   "outputs": [
    {
     "name": "stdout",
     "output_type": "stream",
     "text": [
      "1.17.1\n",
      "['__builtins__', '__cached__', '__doc__', '__file__', '__loader__', '__name__', '__package__', '__path__', '__spec__', '__version__', '__version_commit__', '_regex_git_hash', 'assign_wcs', 'associations', 'combine_1d', 'datamodels', 'extract_1d', 'lib', 're', 'residual_fringe', 'stpipe', 'version']\n",
      "Help on package jwst:\n",
      "\n",
      "NAME\n",
      "    jwst\n",
      "\n",
      "PACKAGE CONTENTS\n",
      "    _version\n",
      "    ami (package)\n",
      "    assign_mtwcs (package)\n",
      "    assign_wcs (package)\n",
      "    associations (package)\n",
      "    background (package)\n",
      "    badpix_selfcal (package)\n",
      "    barshadow (package)\n",
      "    charge_migration (package)\n",
      "    clean_flicker_noise (package)\n",
      "    combine_1d (package)\n",
      "    conftest\n",
      "    coron (package)\n",
      "    cube_build (package)\n",
      "    cube_skymatch (package)\n",
      "    dark_current (package)\n",
      "    datamodels (package)\n",
      "    dq_init (package)\n",
      "    emicorr (package)\n",
      "    engdblog (package)\n",
      "    exp_to_source (package)\n",
      "    extract_1d (package)\n",
      "    extract_2d (package)\n",
      "    firstframe (package)\n",
      "    fits_generator (package)\n",
      "    flatfield (package)\n",
      "    fringe (package)\n",
      "    gain_scale (package)\n",
      "    group_scale (package)\n",
      "    guider_cds (package)\n",
      "    imprint (package)\n",
      "    ipc (package)\n",
      "    jump (package)\n",
      "    lastframe (package)\n",
      "    lib (package)\n",
      "    linearity (package)\n",
      "    master_background (package)\n",
      "    model_blender (package)\n",
      "    mrs_imatch (package)\n",
      "    msaflagopen (package)\n",
      "    nsclean (package)\n",
      "    outlier_detection (package)\n",
      "    pathloss (package)\n",
      "    persistence (package)\n",
      "    photom (package)\n",
      "    pipeline (package)\n",
      "    pixel_replace (package)\n",
      "    ramp_fitting (package)\n",
      "    refpix (package)\n",
      "    regtest (package)\n",
      "    resample (package)\n",
      "    reset (package)\n",
      "    residual_fringe (package)\n",
      "    rscd (package)\n",
      "    saturation (package)\n",
      "    scripts (package)\n",
      "    skymatch (package)\n",
      "    source_catalog (package)\n",
      "    spectral_leak (package)\n",
      "    srctype (package)\n",
      "    step\n",
      "    stpipe (package)\n",
      "    straylight (package)\n",
      "    superbias (package)\n",
      "    tests (package)\n",
      "    tso_photometry (package)\n",
      "    tweakreg (package)\n",
      "    wavecorr (package)\n",
      "    wfs_combine (package)\n",
      "    wfss_contam (package)\n",
      "    white_light (package)\n",
      "\n",
      "DATA\n",
      "    __version_commit__ = ''\n",
      "\n",
      "VERSION\n",
      "    1.17.1\n",
      "\n",
      "FILE\n",
      "    /home/juan/anaconda3/lib/python3.12/site-packages/jwst/__init__.py\n",
      "\n",
      "\n"
     ]
    }
   ],
   "source": [
    "print(jwst.__version__)\n",
    "print(dir(jwst))\n",
    "help(jwst)"
   ]
  },
  {
   "cell_type": "code",
   "execution_count": 3,
   "id": "8167695e-0c43-48b4-a7db-c24376bac592",
   "metadata": {},
   "outputs": [
    {
     "data": {
      "text/plain": [
       "['Combine1dStep',\n",
       " '__all__',\n",
       " '__builtins__',\n",
       " '__cached__',\n",
       " '__doc__',\n",
       " '__file__',\n",
       " '__loader__',\n",
       " '__name__',\n",
       " '__package__',\n",
       " '__path__',\n",
       " '__spec__',\n",
       " 'combine1d',\n",
       " 'combine_1d_step']"
      ]
     },
     "execution_count": 3,
     "metadata": {},
     "output_type": "execute_result"
    }
   ],
   "source": [
    "dir(jwst.combine_1d)"
   ]
  },
  {
   "cell_type": "markdown",
   "id": "ceec86cb-6e43-40e3-afef-a7c86beaf71f",
   "metadata": {},
   "source": [
    "<div style=\"font-size:40px; color:#0F2080;\">\n",
    "  Calling the <span style=\"color:#F5793A;\">enviorment</span> and <span style=\"color:#F5793A;\">server</span>\n",
    "</div>"
   ]
  },
  {
   "cell_type": "code",
   "execution_count": 4,
   "id": "9476a19a-0877-45b5-b0c7-76c462e0104e",
   "metadata": {},
   "outputs": [],
   "source": [
    "os.environ['CRDS_PATH'] = os.path.expanduser(\"~/crds_cache\")\n",
    "os.environ['CRDS_SERVER_URL'] = 'https://jwst-crds.stsci.edu'"
   ]
  },
  {
   "cell_type": "markdown",
   "id": "d81a3016-8a2b-41b1-a443-5d8a5855912f",
   "metadata": {},
   "source": [
    "<div style=\"font-size:40px; color:#0F2080;\">\n",
    "  Creating the <span style=\"color:#F5793A;\">JSON</span>  <span style=\"color:#F5793A;\">file</span>\n",
    "</div>"
   ]
  },
  {
   "cell_type": "code",
   "execution_count": 5,
   "id": "ef494625-571d-404f-a0e3-a9f47819a13c",
   "metadata": {},
   "outputs": [
    {
     "name": "stdout",
     "output_type": "stream",
     "text": [
      "Association file saved as 'First_ring.json'\n"
     ]
    }
   ],
   "source": [
    "def create_association_file(output_name, input_files, filename=\"combine_input.json\"):\n",
    "    \"\"\"\n",
    "    Create a JSON association file for JWST's combine_1d step, \n",
    "    and add the missing fields: \"exptype\" and \"asn_pool\".\n",
    "    \n",
    "    Parameters:\n",
    "    - output_name (str): The base name for the output file.\n",
    "    - input_files (list): List of input FITS files to combine.\n",
    "    - filename (str): Name of the JSON file to save (default: \"combine_input.json\").\n",
    "    \"\"\"\n",
    "\n",
    "    association = {\n",
    "        \"products\": [\n",
    "            {\n",
    "                \"name\": output_name,\n",
    "                \"members\": [{\"expname\": file, \"exptype\": \"science\"} for file in input_files]\n",
    "            }\n",
    "        ],\n",
    "        \"asn_pool\": \"placeholder_pool\"\n",
    "    }\n",
    "\n",
    "    with open(filename, \"w\") as json_file:\n",
    "        json.dump(association, json_file, indent=4)\n",
    "    print(f\"Association file saved as '{filename}'\")\n",
    "\n",
    "# Set the output name and input files\n",
    "output_name = \"Ring1\"\n",
    "input_files = [\n",
    "    \"CH1_ring1.fits\",\n",
    "    \"CH2_ring1.fits\",\n",
    "    \"CH3_ring1.fits\"\n",
    "]\n",
    "\n",
    "create_association_file(output_name, input_files, filename=\"First_ring.json\")"
   ]
  },
  {
   "cell_type": "markdown",
   "id": "f1568f08-f093-430b-9706-f5814e95ea24",
   "metadata": {},
   "source": [
    "<div style=\"font-size:40px; color:#0F2080;\">\n",
    "  Stitching the <span style=\"color:#F5793A;\">files</span>  <span style=\"color:#F5793A;\"> </span>\n",
    "</div>"
   ]
  },
  {
   "cell_type": "code",
   "execution_count": 6,
   "id": "28fafe7b-1d4b-4306-9392-e9aa4e99b215",
   "metadata": {},
   "outputs": [
    {
     "name": "stderr",
     "output_type": "stream",
     "text": [
      "2025-03-27 15:05:19,926 - stpipe - WARNING - /home/juan/anaconda3/lib/python3.12/site-packages/stdatamodels/jwst/datamodels/util.py:236: NoTypeWarning: model_type not found. Opening CH1_ring1.fits as a JwstDataModel\n",
      "  warnings.warn(f\"model_type not found. Opening {file_name} as a {class_name}\",\n",
      "\n",
      "2025-03-27 15:05:19,927 - CRDS - ERROR -  (FATAL) CRDS server connection and cache load FAILED.  Cannot continue.\n",
      " See https://hst-crds.stsci.edu/docs/cmdline_bestrefs/ or https://jwst-crds.stsci.edu/docs/cmdline_bestrefs/\n",
      " for more information on configuring CRDS,  particularly CRDS_PATH and CRDS_SERVER_URL. : [Errno 2] No such file or directory: '/home/juan/crds_cache/config/jwst/server_config'\n"
     ]
    },
    {
     "ename": "SystemExit",
     "evalue": "-1",
     "output_type": "error",
     "traceback": [
      "An exception has occurred, use %tb to see the full traceback.\n",
      "\u001b[0;31mSystemExit\u001b[0m\u001b[0;31m:\u001b[0m -1\n"
     ]
    },
    {
     "name": "stderr",
     "output_type": "stream",
     "text": [
      "2025-03-27 15:05:19,928 - stpipe - WARNING - /home/juan/anaconda3/lib/python3.12/site-packages/IPython/core/interactiveshell.py:3585: UserWarning: To exit: use 'exit', 'quit', or Ctrl-D.\n",
      "  warn(\"To exit: use 'exit', 'quit', or Ctrl-D.\", stacklevel=1)\n",
      "\n"
     ]
    }
   ],
   "source": [
    "output_dir = '/home/juan/Downloads/Research/JWSTPAH'\n",
    "output_file = 'Ring1.fits'\n",
    "\n",
    "# Run the step with the output file and directory specified\n",
    "Combine1dStep.call('First_ring.json', output_dir=output_dir, suffix='_stitched', output_file=output_file)"
   ]
  },
  {
   "cell_type": "code",
   "execution_count": null,
   "id": "16b8faf4",
   "metadata": {},
   "outputs": [],
   "source": []
  }
 ],
 "metadata": {
  "kernelspec": {
   "display_name": "Python 3 (ipykernel)",
   "language": "python",
   "name": "python3"
  },
  "language_info": {
   "codemirror_mode": {
    "name": "ipython",
    "version": 3
   },
   "file_extension": ".py",
   "mimetype": "text/x-python",
   "name": "python",
   "nbconvert_exporter": "python",
   "pygments_lexer": "ipython3",
   "version": "3.12.2"
  }
 },
 "nbformat": 4,
 "nbformat_minor": 5
}
