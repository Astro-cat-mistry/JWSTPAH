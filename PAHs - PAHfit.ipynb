{
 "cells": [
  {
   "cell_type": "markdown",
   "id": "d8b369cc",
   "metadata": {},
   "source": [
    "<div style=\"font-size:40px; color:#0F2080;\">\n",
    "  Importing <span style=\"color:#F5793A;\">libraries</span> and <span style=\"color:#F5793A;\">fits</span>\n",
    "</div>"
   ]
  },
  {
   "cell_type": "code",
   "execution_count": 1,
   "id": "9c35c659-905d-4755-9ad9-3295f12985fd",
   "metadata": {},
   "outputs": [
    {
     "name": "stdout",
     "output_type": "stream",
     "text": [
      "PAHFIT version: 2.6.dev93+gca599f9\n",
      "pyPAHdb version: 0+unknown\n"
     ]
    }
   ],
   "source": [
    "import pahfit\n",
    "import pypahdb\n",
    "print(f\"PAHFIT version: {pahfit.__version__}\")\n",
    "print(f\"pyPAHdb version: {pypahdb.__version__}\")\n"
   ]
  },
  {
   "cell_type": "code",
   "execution_count": 2,
   "id": "9d00bf3f",
   "metadata": {},
   "outputs": [
    {
     "name": "stdout",
     "output_type": "stream",
     "text": [
      "Found 29 FITS files:\n",
      "CH3_ring6.fits\n",
      "CH2_ring7.fits\n",
      "jw01328-c1006_t014_miri_ch3-shortmediumlong_x1d.fits\n",
      "CH2_ring3.fits\n",
      "CH2_ring4.fits\n",
      "CH2_ring2.fits\n",
      "CH1_ring2.fits\n",
      "CH2_ring5.fits\n",
      "jw01328-c1006_t014_miri_ch3-shortmediumlong_s3d.fits\n",
      "CH3_ring5.fits\n",
      "jw01328-c1006_t014_miri_ch1-shortmediumlong_s3d.fits\n",
      "jw01328-c1006_t014_miri_ch1-shortmediumlong_x1d.fits\n",
      "CH3_ring2.fits\n",
      "CH1_ring3.fits\n",
      "CH3_ring3.fits\n",
      "CH1_ring6.fits\n",
      "CH3_ring7.fits\n",
      "jw01328-c1006_t014_miri_ch2-shortmediumlong_s3d.fits\n",
      "CH1_ring4.fits\n",
      "CH3_ring1.fits\n",
      "CH2_ring6.fits\n",
      "CH1_ring1.fits\n",
      "jw01328-c1006_t014_miri_ch2-shortmediumlong_x1d.fits\n",
      "CH1_ring5.fits\n",
      "jw01328-c1006_t014_miri_ch4-shortmediumlong_x1d.fits\n",
      "CH2_ring1.fits\n",
      "CH3_ring4.fits\n",
      "jw01328-c1006_t014_miri_ch4-shortmediumlong_s3d.fits\n",
      "CH1_ring7.fits\n"
     ]
    }
   ],
   "source": [
    "import os\n",
    "import numpy as np\n",
    "from astropy.io import fits\n",
    "import matplotlib.pyplot as plt\n",
    "from pathlib import Path\n",
    "import glob\n",
    "import pahfit\n",
    "from numpy.polynomial import Polynomial\n",
    "from astropy.io.misc import yaml\n",
    "from pkg_resources import resource_filename\n",
    "from pahfit.errors import PAHFITPackError, PAHFITWarning\n",
    "from warnings import warn\n",
    "from astropy import units as u\n",
    "from pahfit.model import Model\n",
    "#from pahfit.modelj import Model\n",
    "from specutils import Spectrum1D\n",
    "import astropy.units as u\n",
    "from astropy.nddata import StdDevUncertainty\n",
    "\n",
    "fits_dir = '/home/juan/Downloads/Research/JWSTPAH'\n",
    "fits_files = [f for f in os.listdir(fits_dir) if f.endswith('.fits')]\n",
    "\n",
    "print(f\"Found {len(fits_files)} FITS files:\")\n",
    "for file in fits_files:\n",
    "    print(file)"
   ]
  },
  {
   "cell_type": "markdown",
   "id": "2a3a8bad",
   "metadata": {},
   "source": [
    "<div style=\"font-size:40px; color:#0F2080;\">\n",
    "  Running <span style=\"color:#F5793A;\">PAHfit</span> \n",
    "</div>"
   ]
  },
  {
   "cell_type": "code",
   "execution_count": 6,
   "id": "93dada70",
   "metadata": {},
   "outputs": [
    {
     "ename": "OSError",
     "evalue": "Could not identify column containing the wavelength, frequency or energy",
     "output_type": "error",
     "traceback": [
      "\u001b[0;31m---------------------------------------------------------------------------\u001b[0m",
      "\u001b[0;31mOSError\u001b[0m                                   Traceback (most recent call last)",
      "Cell \u001b[0;32mIn[6], line 1\u001b[0m\n\u001b[0;32m----> 1\u001b[0m spec \u001b[38;5;241m=\u001b[39m Spectrum1D\u001b[38;5;241m.\u001b[39mread(\u001b[38;5;124m'\u001b[39m\u001b[38;5;124mCH1_ring1.fits\u001b[39m\u001b[38;5;124m'\u001b[39m)\n\u001b[1;32m      2\u001b[0m spec\u001b[38;5;241m.\u001b[39mmeta[\u001b[38;5;124m'\u001b[39m\u001b[38;5;124minstrument\u001b[39m\u001b[38;5;124m'\u001b[39m] \u001b[38;5;241m=\u001b[39m \u001b[38;5;124m'\u001b[39m\u001b[38;5;124mjwst.miri.*.*\u001b[39m\u001b[38;5;124m'\u001b[39m\n\u001b[1;32m      3\u001b[0m spec\u001b[38;5;241m.\u001b[39mset_redshift_to(\u001b[38;5;241m0.016268\u001b[39m)\n",
      "File \u001b[0;32m~/anaconda3/lib/python3.12/site-packages/astropy/nddata/mixins/ndio.py:59\u001b[0m, in \u001b[0;36mNDDataRead.__call__\u001b[0;34m(self, *args, **kwargs)\u001b[0m\n\u001b[1;32m     58\u001b[0m \u001b[38;5;28;01mdef\u001b[39;00m \u001b[38;5;21m__call__\u001b[39m(\u001b[38;5;28mself\u001b[39m, \u001b[38;5;241m*\u001b[39margs, \u001b[38;5;241m*\u001b[39m\u001b[38;5;241m*\u001b[39mkwargs):\n\u001b[0;32m---> 59\u001b[0m     \u001b[38;5;28;01mreturn\u001b[39;00m \u001b[38;5;28mself\u001b[39m\u001b[38;5;241m.\u001b[39mregistry\u001b[38;5;241m.\u001b[39mread(\u001b[38;5;28mself\u001b[39m\u001b[38;5;241m.\u001b[39m_cls, \u001b[38;5;241m*\u001b[39margs, \u001b[38;5;241m*\u001b[39m\u001b[38;5;241m*\u001b[39mkwargs)\n",
      "File \u001b[0;32m~/anaconda3/lib/python3.12/site-packages/astropy/io/registry/core.py:221\u001b[0m, in \u001b[0;36mUnifiedInputRegistry.read\u001b[0;34m(self, cls, format, cache, *args, **kwargs)\u001b[0m\n\u001b[1;32m    218\u001b[0m         kwargs\u001b[38;5;241m.\u001b[39mupdate({\u001b[38;5;124m\"\u001b[39m\u001b[38;5;124mfilename\u001b[39m\u001b[38;5;124m\"\u001b[39m: path})\n\u001b[1;32m    220\u001b[0m reader \u001b[38;5;241m=\u001b[39m \u001b[38;5;28mself\u001b[39m\u001b[38;5;241m.\u001b[39mget_reader(\u001b[38;5;28mformat\u001b[39m, \u001b[38;5;28mcls\u001b[39m)\n\u001b[0;32m--> 221\u001b[0m data \u001b[38;5;241m=\u001b[39m reader(\u001b[38;5;241m*\u001b[39margs, \u001b[38;5;241m*\u001b[39m\u001b[38;5;241m*\u001b[39mkwargs)\n\u001b[1;32m    223\u001b[0m \u001b[38;5;28;01mif\u001b[39;00m \u001b[38;5;129;01mnot\u001b[39;00m \u001b[38;5;28misinstance\u001b[39m(data, \u001b[38;5;28mcls\u001b[39m):\n\u001b[1;32m    224\u001b[0m     \u001b[38;5;66;03m# User has read with a subclass where only the parent class is\u001b[39;00m\n\u001b[1;32m    225\u001b[0m     \u001b[38;5;66;03m# registered.  This returns the parent class, so try coercing\u001b[39;00m\n\u001b[1;32m    226\u001b[0m     \u001b[38;5;66;03m# to desired subclass.\u001b[39;00m\n\u001b[1;32m    227\u001b[0m     \u001b[38;5;28;01mtry\u001b[39;00m:\n",
      "File \u001b[0;32m~/anaconda3/lib/python3.12/site-packages/specutils/io/default_loaders/tabular_fits.py:99\u001b[0m, in \u001b[0;36mtabular_fits_loader\u001b[0;34m(file_obj, column_mapping, hdu, store_data_header, **kwargs)\u001b[0m\n\u001b[1;32m     96\u001b[0m \u001b[38;5;66;03m# If no column mapping is given, attempt to parse the file using\u001b[39;00m\n\u001b[1;32m     97\u001b[0m \u001b[38;5;66;03m# unit information\u001b[39;00m\n\u001b[1;32m     98\u001b[0m \u001b[38;5;28;01mif\u001b[39;00m column_mapping \u001b[38;5;129;01mis\u001b[39;00m \u001b[38;5;28;01mNone\u001b[39;00m:\n\u001b[0;32m---> 99\u001b[0m     \u001b[38;5;28;01mreturn\u001b[39;00m generic_spectrum_from_table(tab, wcs\u001b[38;5;241m=\u001b[39mwcs)\n\u001b[1;32m    101\u001b[0m \u001b[38;5;28;01mreturn\u001b[39;00m spectrum_from_column_mapping(tab, column_mapping, wcs\u001b[38;5;241m=\u001b[39mwcs)\n",
      "File \u001b[0;32m~/anaconda3/lib/python3.12/site-packages/specutils/io/parsing_utils.py:250\u001b[0m, in \u001b[0;36mgeneric_spectrum_from_table\u001b[0;34m(table, wcs)\u001b[0m\n\u001b[1;32m    247\u001b[0m spectral_axis_column \u001b[38;5;241m=\u001b[39m _find_spectral_axis_column(table, colnames)\n\u001b[1;32m    249\u001b[0m \u001b[38;5;28;01mif\u001b[39;00m spectral_axis_column \u001b[38;5;129;01mis\u001b[39;00m \u001b[38;5;28;01mNone\u001b[39;00m \u001b[38;5;129;01mand\u001b[39;00m wcs \u001b[38;5;129;01mis\u001b[39;00m \u001b[38;5;28;01mNone\u001b[39;00m:\n\u001b[0;32m--> 250\u001b[0m     \u001b[38;5;28;01mraise\u001b[39;00m \u001b[38;5;167;01mIOError\u001b[39;00m(\u001b[38;5;124m\"\u001b[39m\u001b[38;5;124mCould not identify column containing the wavelength, frequency or energy\u001b[39m\u001b[38;5;124m\"\u001b[39m)\n\u001b[1;32m    251\u001b[0m \u001b[38;5;28;01melif\u001b[39;00m wcs \u001b[38;5;129;01mis\u001b[39;00m \u001b[38;5;129;01mnot\u001b[39;00m \u001b[38;5;28;01mNone\u001b[39;00m:\n\u001b[1;32m    252\u001b[0m     spectral_axis \u001b[38;5;241m=\u001b[39m \u001b[38;5;28;01mNone\u001b[39;00m\n",
      "\u001b[0;31mOSError\u001b[0m: Could not identify column containing the wavelength, frequency or energy"
     ]
    }
   ],
   "source": [
    "spec = Spectrum1D.read('CH1_ring1.fits')\n",
    "spec.meta['instrument'] = 'jwst.miri.*.*'\n",
    "spec.set_redshift_to(0.016268)\n",
    "\n",
    "model = Model.from_yaml('classic.yaml')\n",
    "model.guess(spec)\n",
    "model.fit(spec)\n",
    "model.plot(spec)\n",
    "\n",
    "output_file = 'Ringtest.ecsv'\n",
    "model.save(output_file, overwrite=True)\n",
    "print(\"Fitting completed and results saved to:\", output_file)"
   ]
  },
  {
   "cell_type": "code",
   "execution_count": null,
   "id": "1da6fdc4-b633-46a1-aed6-816f01d71fbb",
   "metadata": {},
   "outputs": [],
   "source": []
  }
 ],
 "metadata": {
  "kernelspec": {
   "display_name": "Python 3 (ipykernel)",
   "language": "python",
   "name": "python3"
  },
  "language_info": {
   "codemirror_mode": {
    "name": "ipython",
    "version": 3
   },
   "file_extension": ".py",
   "mimetype": "text/x-python",
   "name": "python",
   "nbconvert_exporter": "python",
   "pygments_lexer": "ipython3",
   "version": "3.12.2"
  }
 },
 "nbformat": 4,
 "nbformat_minor": 5
}
